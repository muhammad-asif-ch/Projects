{
 "cells": [
  {
   "cell_type": "markdown",
   "id": "3259cbec-a001-41f2-8031-06bf613251f7",
   "metadata": {},
   "source": [
    "# Tic Tac Toe - `MinMax` Algorithm & `Alpha Beta pruning`\n",
    "\n",
    "In this I made a game based on **MinMax** and **Alpha Beta pruning** Algorithm. We implement this game using **python** programming language.\n",
    "\n",
    "\n",
    "This game contain two players:\n",
    "1. `X`\n",
    "2. `O`\n",
    "His board conatin state from  `1-9`.\n",
    "\n",
    "1st player is `HUMAN` and 2nd is `AI` who play randomly."
   ]
  },
  {
   "cell_type": "markdown",
   "id": "9c3a66eb-6183-4cad-990d-d885fd5be81f",
   "metadata": {},
   "source": [
    "Firstly, We need to import all necessary libraries used in this program.\n",
    "\n",
    "1. math\n",
    "2. IPython\n",
    "3. time"
   ]
  },
  {
   "cell_type": "code",
   "execution_count": 2,
   "id": "f8466e9c-f842-41d3-881c-73443f4e81cd",
   "metadata": {},
   "outputs": [],
   "source": [
    "import math\n",
    "import time\n",
    "from IPython.display import clear_output"
   ]
  },
  {
   "cell_type": "markdown",
   "id": "4d524eb4-e060-427b-91f5-c78e9890d531",
   "metadata": {},
   "source": [
    "## Initializing board"
   ]
  },
  {
   "cell_type": "code",
   "execution_count": 4,
   "id": "488dce0d-7905-43cd-83da-87eee5bba502",
   "metadata": {},
   "outputs": [],
   "source": [
    "# --- Initialize Board ---\n",
    "board = [\" \" for _ in range(9)]\n",
    "AI = \"O\"\n",
    "HUMAN = \"X\""
   ]
  },
  {
   "cell_type": "markdown",
   "id": "687bb7eb-6f88-4f5f-8356-6041b4f66284",
   "metadata": {},
   "source": [
    "## Print Board Function"
   ]
  },
  {
   "cell_type": "code",
   "execution_count": 5,
   "id": "6a49c38a-9fcd-435c-aa0c-1cc4c222a3db",
   "metadata": {},
   "outputs": [],
   "source": [
    "def print_board(board):\n",
    "    print(\"\\n\")\n",
    "    for i in range(3):\n",
    "        print(\" | \".join(board[i*3:(i+1)*3]))\n",
    "        if i < 2:\n",
    "            print(\"---------\")\n",
    "    print(\"\\n\")"
   ]
  },
  {
   "cell_type": "markdown",
   "id": "8c5dbefb-c215-405b-bd07-963e1adfbf55",
   "metadata": {},
   "source": [
    "## Check Winner Function"
   ]
  },
  {
   "cell_type": "code",
   "execution_count": 6,
   "id": "84123a5b-b67a-459e-9d3b-b264a7e03424",
   "metadata": {},
   "outputs": [],
   "source": [
    "def check_winner(board):\n",
    "    win_conditions = [\n",
    "        [0,1,2], [3,4,5], [6,7,8],   # Rows\n",
    "        [0,3,6], [1,4,7], [2,5,8],   # Columns\n",
    "        [0,4,8], [2,4,6]             # Diagonals\n",
    "    ]\n",
    "    for cond in win_conditions:\n",
    "        if board[cond[0]] == board[cond[1]] == board[cond[2]] != \" \":\n",
    "            return board[cond[0]]\n",
    "    if \" \" not in board:\n",
    "        return \"Draw\"\n",
    "    return None"
   ]
  },
  {
   "cell_type": "markdown",
   "id": "dc25308f-65ab-4a6b-8a49-654ef07f64b1",
   "metadata": {},
   "source": [
    "## AI Thinking Animation"
   ]
  },
  {
   "cell_type": "code",
   "execution_count": 7,
   "id": "efed96f2-6c83-44dc-929b-6b74bdf836dc",
   "metadata": {},
   "outputs": [],
   "source": [
    "def ai_thinking():\n",
    "    text = \"AI is thinking\"\n",
    "    for dot_count in range(4):\n",
    "        clear_output(wait=True)\n",
    "        print(text + \".\" * dot_count)\n",
    "        time.sleep(0.5)\n",
    "    clear_output(wait=True)"
   ]
  },
  {
   "cell_type": "markdown",
   "id": "851b44ff-9163-47eb-9460-bfae5ac28447",
   "metadata": {},
   "source": [
    "## Minimax with Alpha-Beta Pruning"
   ]
  },
  {
   "cell_type": "code",
   "execution_count": 9,
   "id": "8e422e67-e1c6-4bdd-a4d7-f36f49765686",
   "metadata": {},
   "outputs": [],
   "source": [
    "def minimax(board, depth, is_maximizing, alpha, beta):\n",
    "    winner = check_winner(board)\n",
    "    if winner == AI:\n",
    "        return 1\n",
    "    elif winner == HUMAN:\n",
    "        return -1\n",
    "    elif winner == \"Draw\":\n",
    "        return 0\n",
    "\n",
    "    if is_maximizing:\n",
    "        max_eval = -math.inf\n",
    "        for i in range(9):\n",
    "            if board[i] == \" \":\n",
    "                board[i] = AI\n",
    "                eval = minimax(board, depth + 1, False, alpha, beta)\n",
    "                board[i] = \" \"\n",
    "                max_eval = max(max_eval, eval)\n",
    "                alpha = max(alpha, eval)\n",
    "                if beta <= alpha:\n",
    "                    break  # prune\n",
    "        return max_eval\n",
    "    else:\n",
    "        min_eval = math.inf\n",
    "        for i in range(9):\n",
    "            if board[i] == \" \":\n",
    "                board[i] = HUMAN\n",
    "                eval = minimax(board, depth + 1, True, alpha, beta)\n",
    "                board[i] = \" \"\n",
    "                min_eval = min(min_eval, eval)\n",
    "                beta = min(beta, eval)\n",
    "                if beta <= alpha:\n",
    "                    break  # prune\n",
    "        return min_eval"
   ]
  },
  {
   "cell_type": "markdown",
   "id": "99d752b9-e751-4010-bdf5-8fd0cb7ae16b",
   "metadata": {},
   "source": [
    "## AI Move Function"
   ]
  },
  {
   "cell_type": "code",
   "execution_count": 10,
   "id": "c5e175b6-8652-4d04-ae52-a347ef2e2dfc",
   "metadata": {},
   "outputs": [],
   "source": [
    "def best_move(board):\n",
    "    best_val = -math.inf\n",
    "    move = None\n",
    "    for i in range(9):\n",
    "        if board[i] == \" \":\n",
    "            board[i] = AI\n",
    "            move_val = minimax(board, 0, False, -math.inf, math.inf)\n",
    "            board[i] = \" \"\n",
    "            if move_val > best_val:\n",
    "                best_val = move_val\n",
    "                move = i\n",
    "    return move"
   ]
  },
  {
   "cell_type": "markdown",
   "id": "69cfc68e-f487-43c8-8c63-70f5b1550488",
   "metadata": {},
   "source": [
    "## Main Game Loop"
   ]
  },
  {
   "cell_type": "code",
   "execution_count": 11,
   "id": "1196345a-dffb-489e-8fa4-6cb001eee499",
   "metadata": {},
   "outputs": [],
   "source": [
    "def play_game():\n",
    "    clear_output(wait=True)\n",
    "    print(\"🎮 Tic Tac Toe using Minimax + Alpha-Beta Pruning (Jupyter Version)\\n\")\n",
    "    print_board(board)\n",
    "\n",
    "    while True:\n",
    "        # --- Human Move ---\n",
    "        move = input(\"Enter your move (1-9): - X \")\n",
    "        if not move.isdigit() or int(move) < 1 or int(move) > 9:\n",
    "            print(\"Please enter a number between 1 and 9.\")\n",
    "            continue\n",
    "\n",
    "        move = int(move) - 1\n",
    "        if board[move] != \" \":\n",
    "            print(\"Invalid move! Try again.\")\n",
    "            continue\n",
    "\n",
    "        board[move] = HUMAN\n",
    "        clear_output(wait=True)\n",
    "        print_board(board)\n",
    "\n",
    "        if check_winner(board):\n",
    "            winner = check_winner(board)\n",
    "            if winner == \"Draw\":\n",
    "                print(\"🤝 It's a Draw!\")\n",
    "            else:\n",
    "                print(f\"🏆 Winner is: {winner}\")\n",
    "            break\n",
    "\n",
    "        # --- AI Move ---\n",
    "        ai_thinking()\n",
    "        ai_move = best_move(board)\n",
    "        board[ai_move] = AI\n",
    "        clear_output(wait=True)\n",
    "        print_board(board)\n",
    "\n",
    "        if check_winner(board):\n",
    "            winner = check_winner(board)\n",
    "            if winner == \"Draw\":\n",
    "                print(\"🤝 It's a Draw!\")\n",
    "            else:\n",
    "                print(f\"🏆 Winner is: {winner}\")\n",
    "            break"
   ]
  },
  {
   "cell_type": "markdown",
   "id": "e0bceedf-18f9-402f-8386-048e7b5665b1",
   "metadata": {},
   "source": [
    "#  Run the Game"
   ]
  },
  {
   "cell_type": "code",
   "execution_count": 12,
   "id": "8a53f486-4e19-43cb-9a3d-58f3d30df011",
   "metadata": {},
   "outputs": [
    {
     "name": "stdout",
     "output_type": "stream",
     "text": [
      "\n",
      "\n",
      "X | X | O\n",
      "---------\n",
      "X | O |  \n",
      "---------\n",
      "O |   |  \n",
      "\n",
      "\n",
      "🏆 Winner is: O\n"
     ]
    }
   ],
   "source": [
    "play_game()"
   ]
  }
 ],
 "metadata": {
  "kernelspec": {
   "display_name": "Python 3 (ipykernel)",
   "language": "python",
   "name": "python3"
  },
  "language_info": {
   "codemirror_mode": {
    "name": "ipython",
    "version": 3
   },
   "file_extension": ".py",
   "mimetype": "text/x-python",
   "name": "python",
   "nbconvert_exporter": "python",
   "pygments_lexer": "ipython3",
   "version": "3.13.5"
  }
 },
 "nbformat": 4,
 "nbformat_minor": 5
}
